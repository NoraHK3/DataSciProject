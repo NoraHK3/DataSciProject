{
  "nbformat": 4,
  "nbformat_minor": 0,
  "metadata": {
    "colab": {
      "provenance": [],
      "authorship_tag": "ABX9TyNZbtVwjGHSRYCL1NXucwOC",
      "include_colab_link": true
    },
    "kernelspec": {
      "name": "python3",
      "display_name": "Python 3"
    },
    "language_info": {
      "name": "python"
    }
  },
  "cells": [
    {
      "cell_type": "markdown",
      "metadata": {
        "id": "view-in-github",
        "colab_type": "text"
      },
      "source": [
        "<a href=\"https://colab.research.google.com/github/NoraHK3/DataSciProject/blob/main/EDAtrials.ipynb\" target=\"_parent\"><img src=\"https://colab.research.google.com/assets/colab-badge.svg\" alt=\"Open In Colab\"/></a>"
      ]
    },
    {
      "cell_type": "code",
      "source": [
        "# First, let's see the overall structure\n",
        "!gsutil ls gs://nutrition5k_dataset/\n",
        "\n",
        "# If that works, explore the nutrition5k_dataset directory\n",
        "!gsutil ls gs://nutrition5k_dataset/nutrition5k_dataset/\n",
        "\n",
        "# Let's recursively list everything to understand the structure\n",
        "!gsutil ls -r gs://nutrition5k_dataset/nutrition5k_dataset/ | head -50\n",
        "\n",
        "#DOWNLOADING METADATA\n",
        "# No authentication needed for public buckets\n",
        "!gsutil ls gs://nutrition5k_dataset/\n",
        "\n",
        "# Check if bucket is publicly accessible\n",
        "!gsutil ls -L gs://nutrition5k_dataset/\n",
        "\n",
        "# Copy specific files without auth\n",
        "!gsutil -m cp -r \"gs://nutrition5k_dataset/nutrition5k_dataset/metadata/\" ./"
      ],
      "metadata": {
        "colab": {
          "base_uri": "https://localhost:8080/"
        },
        "id": "xpXMDo3CLgXU",
        "outputId": "da5f5ec8-2afd-44d7-d395-8b95e3cb3034"
      },
      "execution_count": null,
      "outputs": [
        {
          "output_type": "stream",
          "name": "stdout",
          "text": [
            "gs://nutrition5k_dataset/nutrition5k_dataset.tar.gz\n",
            "gs://nutrition5k_dataset/nutrition5k_dataset/\n",
            "gs://nutrition5k_dataset/nutrition5k_dataset/README\n",
            "gs://nutrition5k_dataset/nutrition5k_dataset/dish_ids/\n",
            "gs://nutrition5k_dataset/nutrition5k_dataset/imagery/\n",
            "gs://nutrition5k_dataset/nutrition5k_dataset/metadata/\n",
            "gs://nutrition5k_dataset/nutrition5k_dataset/scripts/\n",
            "gs://nutrition5k_dataset/nutrition5k_dataset/:\n",
            "gs://nutrition5k_dataset/nutrition5k_dataset/README\n",
            "\n",
            "gs://nutrition5k_dataset/nutrition5k_dataset/dish_ids/:\n",
            "gs://nutrition5k_dataset/nutrition5k_dataset/dish_ids/README\n",
            "gs://nutrition5k_dataset/nutrition5k_dataset/dish_ids/dish_ids_all.txt\n",
            "gs://nutrition5k_dataset/nutrition5k_dataset/dish_ids/dish_ids_cafe1.txt\n",
            "gs://nutrition5k_dataset/nutrition5k_dataset/dish_ids/dish_ids_cafe2.txt\n",
            "\n",
            "gs://nutrition5k_dataset/nutrition5k_dataset/dish_ids/splits/:\n",
            "gs://nutrition5k_dataset/nutrition5k_dataset/dish_ids/splits/depth_test_ids.txt\n",
            "gs://nutrition5k_dataset/nutrition5k_dataset/dish_ids/splits/depth_train_ids.txt\n",
            "gs://nutrition5k_dataset/nutrition5k_dataset/dish_ids/splits/rgb_test_ids.txt\n",
            "gs://nutrition5k_dataset/nutrition5k_dataset/dish_ids/splits/rgb_train_ids.txt\n",
            "\n",
            "gs://nutrition5k_dataset/nutrition5k_dataset/imagery/:\n",
            "\n",
            "gs://nutrition5k_dataset/nutrition5k_dataset/imagery/realsense_overhead/:\n",
            "\n",
            "gs://nutrition5k_dataset/nutrition5k_dataset/imagery/realsense_overhead/dish_1556572657/:\n",
            "gs://nutrition5k_dataset/nutrition5k_dataset/imagery/realsense_overhead/dish_1556572657/depth_color.png\n",
            "gs://nutrition5k_dataset/nutrition5k_dataset/imagery/realsense_overhead/dish_1556572657/depth_raw.png\n",
            "gs://nutrition5k_dataset/nutrition5k_dataset/imagery/realsense_overhead/dish_1556572657/rgb.png\n",
            "\n",
            "gs://nutrition5k_dataset/nutrition5k_dataset/imagery/realsense_overhead/dish_1556573514/:\n",
            "gs://nutrition5k_dataset/nutrition5k_dataset/imagery/realsense_overhead/dish_1556573514/depth_color.png\n",
            "gs://nutrition5k_dataset/nutrition5k_dataset/imagery/realsense_overhead/dish_1556573514/depth_raw.png\n",
            "gs://nutrition5k_dataset/nutrition5k_dataset/imagery/realsense_overhead/dish_1556573514/rgb.png\n",
            "\n",
            "gs://nutrition5k_dataset/nutrition5k_dataset/imagery/realsense_overhead/dish_1556575014/:\n",
            "gs://nutrition5k_dataset/nutrition5k_dataset/imagery/realsense_overhead/dish_1556575014/depth_color.png\n",
            "gs://nutrition5k_dataset/nutrition5k_dataset/imagery/realsense_overhead/dish_1556575014/depth_raw.png\n",
            "gs://nutrition5k_dataset/nutrition5k_dataset/imagery/realsense_overhead/dish_1556575014/rgb.png\n",
            "\n",
            "gs://nutrition5k_dataset/nutrition5k_dataset/imagery/realsense_overhead/dish_1556575083/:\n",
            "gs://nutrition5k_dataset/nutrition5k_dataset/imagery/realsense_overhead/dish_1556575083/depth_color.png\n",
            "gs://nutrition5k_dataset/nutrition5k_dataset/imagery/realsense_overhead/dish_1556575083/depth_raw.png\n",
            "gs://nutrition5k_dataset/nutrition5k_dataset/imagery/realsense_overhead/dish_1556575083/rgb.png\n",
            "\n",
            "gs://nutrition5k_dataset/nutrition5k_dataset/imagery/realsense_overhead/dish_1556575124/:\n",
            "gs://nutrition5k_dataset/nutrition5k_dataset/imagery/realsense_overhead/dish_1556575124/depth_color.png\n",
            "gs://nutrition5k_dataset/nutrition5k_dataset/imagery/realsense_overhead/dish_1556575124/depth_raw.png\n",
            "gs://nutrition5k_dataset/nutrition5k_dataset/imagery/realsense_overhead/dish_1556575124/rgb.png\n",
            "\n",
            "gs://nutrition5k_dataset/nutrition5k_dataset/imagery/realsense_overhead/dish_1556575273/:\n",
            "gs://nutrition5k_dataset/nutrition5k_dataset/imagery/realsense_overhead/dish_1556575273/depth_color.png\n",
            "gs://nutrition5k_dataset/nutrition5k_dataset/imagery/realsense_overhead/dish_1556575273/depth_raw.png\n",
            "gs://nutrition5k_dataset/nutrition5k_dataset/imagery/realsense_overhead/dish_1556575273/rgb.png\n",
            "\n",
            "gs://nutrition5k_dataset/nutrition5k_dataset/imagery/realsense_overhead/dish_1556575327/:\n",
            "Exception ignored in: <_io.TextIOWrapper name='<stdout>' mode='w' encoding='utf-8'>\n",
            "BrokenPipeError: [Errno 32] Broken pipe\n"
          ]
        }
      ]
    },
    {
      "cell_type": "code",
      "source": [
        "# ONLY WORKING METHOD WITH IMAGERY\n",
        "# Method: Download and rename files to avoid overwriting\n",
        "import os\n",
        "import subprocess\n",
        "\n",
        "os.makedirs('./rgb_samples_fixed', exist_ok=True)\n",
        "\n",
        "# First, get the list of dish directories\n",
        "result = subprocess.run([\n",
        "    'gsutil', 'ls', 'gs://nutrition5k_dataset/nutrition5k_dataset/imagery/realsense_overhead/'\n",
        "], capture_output=True, text=True)\n",
        "\n",
        "dish_dirs = result.stdout.strip().split('\\n')\n",
        "print(f\"Found {len(dish_dirs)} dish directories\")\n",
        "\n",
        "# Download first 50 images with unique names\n",
        "for i, dish_dir in enumerate(dish_dirs[:1]):\n",
        "    if dish_dir:\n",
        "        rgb_path = dish_dir + 'rgb.png'\n",
        "        # Extract dish ID from path\n",
        "        dish_id = os.path.basename(dish_dir.rstrip('/'))\n",
        "        local_filename = f'./rgb_samples_fixed/{dish_id}_rgb.png'\n",
        "\n",
        "        print(f\"Downloading {rgb_path} -> {local_filename}\")\n",
        "        !gsutil cp \"{rgb_path}\" \"{local_filename}\"\n",
        "\n",
        "        # Verify download\n",
        "        if os.path.exists(local_filename):\n",
        "            print(f\"✓ Success: {local_filename}\")\n",
        "        else:\n",
        "            print(f\"✗ Failed: {local_filename}\")\n",
        "\n",
        "print(\"\\nFinal contents:\")\n",
        "!ls -la ./rgb_samples_fixed/"
      ],
      "metadata": {
        "colab": {
          "base_uri": "https://localhost:8080/"
        },
        "id": "3J9aaZchPnvf",
        "outputId": "cd184ea6-020a-4763-9302-5c6dd7d455cd"
      },
      "execution_count": 1,
      "outputs": [
        {
          "output_type": "stream",
          "name": "stdout",
          "text": [
            "Found 3490 dish directories\n",
            "Downloading gs://nutrition5k_dataset/nutrition5k_dataset/imagery/realsense_overhead/dish_1556572657/rgb.png -> ./rgb_samples_fixed/dish_1556572657_rgb.png\n",
            "Copying gs://nutrition5k_dataset/nutrition5k_dataset/imagery/realsense_overhead/dish_1556572657/rgb.png...\n",
            "/ [1 files][402.5 KiB/402.5 KiB]                                                \n",
            "Operation completed over 1 objects/402.5 KiB.                                    \n",
            "✓ Success: ./rgb_samples_fixed/dish_1556572657_rgb.png\n",
            "\n",
            "Final contents:\n",
            "total 6908\n",
            "drwxr-xr-x 2 root root   4096 Oct 15 19:40 .\n",
            "drwxr-xr-x 1 root root   4096 Oct 15 19:37 ..\n",
            "-rw-r--r-- 1 root root 412129 Oct 15 19:40 dish_1556572657_rgb.png\n",
            "-rw-r--r-- 1 root root 432908 Oct 15 19:39 dish_1556573514_rgb.png\n",
            "-rw-r--r-- 1 root root 409854 Oct 15 19:39 dish_1556575014_rgb.png\n",
            "-rw-r--r-- 1 root root 396942 Oct 15 19:39 dish_1556575083_rgb.png\n",
            "-rw-r--r-- 1 root root 467732 Oct 15 19:40 dish_1556575273_rgb.png\n",
            "-rw-r--r-- 1 root root 548259 Oct 15 19:40 dish_1556575327_rgb.png\n",
            "-rw-r--r-- 1 root root 630572 Oct 15 19:40 dish_1556575386_rgb.png\n",
            "-rw-r--r-- 1 root root 466935 Oct 15 19:40 dish_1556575446_rgb.png\n",
            "-rw-r--r-- 1 root root 535664 Oct 15 19:40 dish_1556575499_rgb.png\n",
            "-rw-r--r-- 1 root root 630699 Oct 15 19:40 dish_1556575558_rgb.png\n",
            "-rw-r--r-- 1 root root 405532 Oct 15 19:40 dish_1557853154_rgb.png\n",
            "-rw-r--r-- 1 root root 429173 Oct 15 19:40 dish_1557853229_rgb.png\n",
            "-rw-r--r-- 1 root root 406752 Oct 15 19:40 dish_1557853314_rgb.png\n",
            "-rw-r--r-- 1 root root 481133 Oct 15 19:40 dish_1557853429_rgb.png\n",
            "-rw-r--r-- 1 root root 387008 Oct 15 19:40 dish_1557861605_rgb.png\n"
          ]
        }
      ]
    }
  ]
}